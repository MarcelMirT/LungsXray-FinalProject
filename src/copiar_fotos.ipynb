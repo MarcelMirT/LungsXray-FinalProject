{
 "cells": [
  {
   "cell_type": "markdown",
   "metadata": {},
   "source": [
    "PASAR 3OO FOTOS DE CADA"
   ]
  },
  {
   "cell_type": "code",
   "execution_count": 20,
   "metadata": {},
   "outputs": [
    {
     "name": "stdout",
     "output_type": "stream",
     "text": [
      "333 random images have been copied.\n"
     ]
    }
   ],
   "source": [
    "import os\n",
    "import shutil\n",
    "import random\n",
    "\n",
    "# Define the source and destination directories\n",
    "source_directory = \"\"\n",
    "destination_directory = \"\"\n",
    "\n",
    "# List all the files in the source directory\n",
    "all_files = os.listdir(source_directory)\n",
    "\n",
    "# Filter out only the image files (assuming they have extensions like .jpg, .png, etc.)\n",
    "image_files = [file for file in all_files if file.lower().endswith((\".png\", \".jpg\", \".jpeg\"))]\n",
    "\n",
    "# Check if the number of images is less than 333\n",
    "if len(image_files) < 333:\n",
    "    print(\"Not enough image files in the source directory.\")\n",
    "else:\n",
    "    # Randomly select 300 images\n",
    "    selected_files = random.sample(image_files, 333)\n",
    "    # Copy each selected image to the destination directory\n",
    "    for file in selected_files:\n",
    "        source_path = os.path.join(source_directory, file)\n",
    "        destination_path = os.path.join(destination_directory, file)\n",
    "        shutil.copy2(source_path, destination_path)\n",
    "    print(\"333 random images have been copied.\")"
   ]
  },
  {
   "cell_type": "markdown",
   "metadata": {},
   "source": [
    "COPIAR FOTOS PARA EL PRINCIPAL"
   ]
  },
  {
   "cell_type": "code",
   "execution_count": 15,
   "metadata": {},
   "outputs": [
    {
     "name": "stdout",
     "output_type": "stream",
     "text": [
      "1000 random images have been copied.\n"
     ]
    }
   ],
   "source": [
    "import os\n",
    "import shutil\n",
    "import random\n",
    "\n",
    "# Define the source and destination directories\n",
    "source_directory = \"\"\n",
    "destination_directory = \"\"\n",
    "\n",
    "# List all the files in the source directory\n",
    "all_files = os.listdir(source_directory)\n",
    "\n",
    "# Filter out only the image files (assuming they have extensions like .jpg, .png, etc.)\n",
    "image_files = [file for file in all_files if file.lower().endswith((\".png\", \".jpg\", \".jpeg\", ))]\n",
    "\n",
    "# Check if the number of images is less than 1000\n",
    "if len(image_files) < 1000:\n",
    "    print(\"Not enough image files in the source directory.\")\n",
    "else:\n",
    "    # Randomly select 300 images\n",
    "    selected_files = random.sample(image_files, 1000)\n",
    "    # Copy each selected image to the destination directory\n",
    "    for file in selected_files:\n",
    "        source_path = os.path.join(source_directory, file)\n",
    "        destination_path = os.path.join(destination_directory, file)\n",
    "        shutil.copy2(source_path, destination_path)\n",
    "    print(\"1000 random images have been copied.\")"
   ]
  },
  {
   "cell_type": "markdown",
   "metadata": {},
   "source": [
    "MIRAR FOTOS EN UNA CARPETA"
   ]
  },
  {
   "cell_type": "code",
   "execution_count": 21,
   "metadata": {},
   "outputs": [
    {
     "name": "stdout",
     "output_type": "stream",
     "text": [
      "El número de elementos en '/workspaces/LungsXray-FP/data/raw/BINARY_TUBERCULOSIS/RESTO' es: 999\n"
     ]
    }
   ],
   "source": [
    "import os\n",
    "\n",
    "def count_items_in_directory(directory):\n",
    "    \"\"\"Cuenta la cantidad de archivos y subdirectorios en un directorio dado.\"\"\"\n",
    "    try:\n",
    "        return len(os.listdir(directory))\n",
    "    except FileNotFoundError:\n",
    "        return \"El directorio no existe.\"\n",
    "\n",
    "# Reemplaza 'tu_directorio' con el camino al directorio que quieres contar\n",
    "directory_path = '/workspaces/LungsXray-FP/data/raw/BINARY_TUBERCULOSIS/RESTO'\n",
    "count = count_items_in_directory(directory_path)\n",
    "\n",
    "print(f\"El número de elementos en '{directory_path}' es: {count}\")\n"
   ]
  }
 ],
 "metadata": {
  "kernelspec": {
   "display_name": "Python 3",
   "language": "python",
   "name": "python3"
  },
  "language_info": {
   "codemirror_mode": {
    "name": "ipython",
    "version": 3
   },
   "file_extension": ".py",
   "mimetype": "text/x-python",
   "name": "python",
   "nbconvert_exporter": "python",
   "pygments_lexer": "ipython3",
   "version": "3.11.4"
  }
 },
 "nbformat": 4,
 "nbformat_minor": 2
}
