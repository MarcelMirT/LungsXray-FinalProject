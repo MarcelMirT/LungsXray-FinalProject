{
 "cells": [
  {
   "cell_type": "code",
   "execution_count": 2,
   "metadata": {},
   "outputs": [
    {
     "name": "stderr",
     "output_type": "stream",
     "text": [
      "2024-01-03 15:24:53.750905: I external/local_tsl/tsl/cuda/cudart_stub.cc:31] Could not find cuda drivers on your machine, GPU will not be used.\n",
      "2024-01-03 15:24:53.891717: E external/local_xla/xla/stream_executor/cuda/cuda_dnn.cc:9261] Unable to register cuDNN factory: Attempting to register factory for plugin cuDNN when one has already been registered\n",
      "2024-01-03 15:24:53.891765: E external/local_xla/xla/stream_executor/cuda/cuda_fft.cc:607] Unable to register cuFFT factory: Attempting to register factory for plugin cuFFT when one has already been registered\n",
      "2024-01-03 15:24:53.917197: E external/local_xla/xla/stream_executor/cuda/cuda_blas.cc:1515] Unable to register cuBLAS factory: Attempting to register factory for plugin cuBLAS when one has already been registered\n",
      "2024-01-03 15:24:54.001199: I external/local_tsl/tsl/cuda/cudart_stub.cc:31] Could not find cuda drivers on your machine, GPU will not be used.\n",
      "2024-01-03 15:24:54.002036: I tensorflow/core/platform/cpu_feature_guard.cc:182] This TensorFlow binary is optimized to use available CPU instructions in performance-critical operations.\n",
      "To enable the following instructions: AVX2 FMA, in other operations, rebuild TensorFlow with the appropriate compiler flags.\n",
      "2024-01-03 15:24:55.779457: W tensorflow/compiler/tf2tensorrt/utils/py_utils.cc:38] TF-TRT Warning: Could not find TensorRT\n"
     ]
    }
   ],
   "source": [
    "import tensorflow as tf\n",
    "from tensorflow import keras\n",
    "from keras import datasets, layers, models\n",
    "import matplotlib.pyplot as plt\n",
    "from tensorflow.keras.preprocessing.image import ImageDataGenerator\n",
    "from sklearn.metrics import precision_score, recall_score\n",
    "import numpy as np\n",
    "from sklearn.metrics import classification_report, accuracy_score, confusion_matrix\n",
    "from tensorflow.keras.models import load_model\n",
    "from tensorflow.keras.preprocessing import image\n",
    "from tensorflow.keras.applications.resnet50 import preprocess_input, decode_predictions\n",
    "import random\n",
    "import os\n",
    "import shutil"
   ]
  },
  {
   "cell_type": "code",
   "execution_count": 1,
   "metadata": {},
   "outputs": [],
   "source": [
    "dataset_dir = '/workspaces/LungsXray-FP/data/raw/BINARY_PNEUMONIA'"
   ]
  },
  {
   "cell_type": "code",
   "execution_count": 3,
   "metadata": {},
   "outputs": [
    {
     "name": "stdout",
     "output_type": "stream",
     "text": [
      "Found 1138 images belonging to 2 classes.\n",
      "Found 283 images belonging to 2 classes.\n"
     ]
    }
   ],
   "source": [
    "image_size = (150, 150)\n",
    "batch_size = 32\n",
    "\n",
    "train_datagen = ImageDataGenerator(\n",
    "    rescale=1./255,\n",
    "    shear_range=0.2,\n",
    "    zoom_range=0.2,\n",
    "    horizontal_flip=True,\n",
    "    validation_split=0.2\n",
    ")\n",
    "\n",
    "train_generator = train_datagen.flow_from_directory(\n",
    "    dataset_dir,\n",
    "    target_size=image_size,\n",
    "    batch_size=batch_size,\n",
    "    class_mode='categorical',  \n",
    "    subset='training'\n",
    ")\n",
    "\n",
    "validation_generator = train_datagen.flow_from_directory(\n",
    "    dataset_dir,\n",
    "    target_size=image_size,\n",
    "    batch_size=batch_size,\n",
    "    class_mode='categorical',\n",
    "    subset='validation'\n",
    ")\n"
   ]
  },
  {
   "cell_type": "code",
   "execution_count": 4,
   "metadata": {},
   "outputs": [
    {
     "name": "stderr",
     "output_type": "stream",
     "text": [
      "2024-01-03 15:25:31.064031: W external/local_tsl/tsl/framework/cpu_allocator_impl.cc:83] Allocation of 18939904 exceeds 10% of free system memory.\n",
      "2024-01-03 15:25:31.092574: W external/local_tsl/tsl/framework/cpu_allocator_impl.cc:83] Allocation of 18939904 exceeds 10% of free system memory.\n",
      "2024-01-03 15:25:31.098490: W external/local_tsl/tsl/framework/cpu_allocator_impl.cc:83] Allocation of 18939904 exceeds 10% of free system memory.\n"
     ]
    }
   ],
   "source": [
    "num_classes = len(train_generator.class_indices)\n",
    "\n",
    "model = tf.keras.Sequential([\n",
    "    tf.keras.layers.Conv2D(32, (3, 3), activation='relu', input_shape=(image_size[0], image_size[1], 3)),\n",
    "    tf.keras.layers.MaxPooling2D((2, 2)),\n",
    "    tf.keras.layers.Conv2D(64, (3, 3), activation='relu'),\n",
    "    tf.keras.layers.MaxPooling2D((2, 2)),\n",
    "    tf.keras.layers.Conv2D(128, (3, 3), activation='relu'),\n",
    "    tf.keras.layers.MaxPooling2D((2, 2)),\n",
    "    tf.keras.layers.Flatten(),\n",
    "    tf.keras.layers.Dense(128, activation='relu'),\n",
    "    tf.keras.layers.Dense(num_classes, activation='sigmoid')  # Clasificación multiclase, usar 'softmax'\n",
    "])\n",
    "\n",
    "model.compile(optimizer='adam',\n",
    "              loss='mean_absolute_error',\n",
    "              metrics=['accuracy'])"
   ]
  },
  {
   "cell_type": "code",
   "execution_count": 5,
   "metadata": {},
   "outputs": [
    {
     "name": "stdout",
     "output_type": "stream",
     "text": [
      "Epoch 1/10\n"
     ]
    },
    {
     "name": "stderr",
     "output_type": "stream",
     "text": [
      "2024-01-03 15:25:47.683047: W external/local_tsl/tsl/framework/cpu_allocator_impl.cc:83] Allocation of 18939904 exceeds 10% of free system memory.\n",
      "2024-01-03 15:25:47.686477: W external/local_tsl/tsl/framework/cpu_allocator_impl.cc:83] Allocation of 18939904 exceeds 10% of free system memory.\n"
     ]
    },
    {
     "name": "stdout",
     "output_type": "stream",
     "text": [
      "36/36 [==============================] - 75s 2s/step - loss: 0.1763 - accuracy: 0.8155 - val_loss: 0.1625 - val_accuracy: 0.8375\n",
      "Epoch 2/10\n",
      "36/36 [==============================] - 72s 2s/step - loss: 0.1652 - accuracy: 0.8348 - val_loss: 0.1625 - val_accuracy: 0.8375\n",
      "Epoch 3/10\n",
      "36/36 [==============================] - 70s 2s/step - loss: 0.1652 - accuracy: 0.8348 - val_loss: 0.1625 - val_accuracy: 0.8375\n",
      "Epoch 4/10\n",
      "36/36 [==============================] - 71s 2s/step - loss: 0.1652 - accuracy: 0.8348 - val_loss: 0.1625 - val_accuracy: 0.8375\n",
      "Epoch 5/10\n",
      "36/36 [==============================] - 72s 2s/step - loss: 0.1652 - accuracy: 0.8348 - val_loss: 0.1625 - val_accuracy: 0.8375\n",
      "Epoch 6/10\n",
      "36/36 [==============================] - 75s 2s/step - loss: 0.1652 - accuracy: 0.8348 - val_loss: 0.1625 - val_accuracy: 0.8375\n",
      "Epoch 7/10\n",
      "36/36 [==============================] - 70s 2s/step - loss: 0.1652 - accuracy: 0.8348 - val_loss: 0.1625 - val_accuracy: 0.8375\n",
      "Epoch 8/10\n",
      "36/36 [==============================] - 69s 2s/step - loss: 0.1652 - accuracy: 0.8348 - val_loss: 0.1625 - val_accuracy: 0.8375\n",
      "Epoch 9/10\n",
      "36/36 [==============================] - 67s 2s/step - loss: 0.1652 - accuracy: 0.8348 - val_loss: 0.1625 - val_accuracy: 0.8375\n",
      "Epoch 10/10\n",
      "36/36 [==============================] - 65s 2s/step - loss: 0.1652 - accuracy: 0.8348 - val_loss: 0.1625 - val_accuracy: 0.8375\n"
     ]
    }
   ],
   "source": [
    "epochs = 10\n",
    "\n",
    "history = model.fit(\n",
    "    train_generator,\n",
    "    epochs=epochs,\n",
    "    validation_data=validation_generator\n",
    ")"
   ]
  },
  {
   "cell_type": "code",
   "execution_count": 6,
   "metadata": {},
   "outputs": [
    {
     "name": "stdout",
     "output_type": "stream",
     "text": [
      "9/9 - 7s - loss: 0.1625 - accuracy: 0.8375 - 7s/epoch - 727ms/step\n",
      "\n",
      "Exactitud en el conjunto de validación: 0.8374558091163635\n"
     ]
    }
   ],
   "source": [
    "test_loss, test_acc = model.evaluate(validation_generator, verbose=2)\n",
    "print('\\nExactitud en el conjunto de validación:', test_acc)\n"
   ]
  },
  {
   "cell_type": "code",
   "execution_count": null,
   "metadata": {},
   "outputs": [],
   "source": [
    "model.save('modelo_binary_PNEUMONIA.keras')"
   ]
  },
  {
   "cell_type": "code",
   "execution_count": null,
   "metadata": {},
   "outputs": [],
   "source": [
    "model = load_model('modelo_binary_PNEUMONIA.keras')  # Ajusta el nombre de tu modelo\n",
    "# Preprocesamiento de datos para el conjunto de prueba\n",
    "test_datagen = ImageDataGenerator(rescale=1./255)\n",
    "test_generator = test_datagen.flow_from_directory(\n",
    "    dataset_dir,\n",
    "    target_size=(150, 150),\n",
    "    batch_size=32,\n",
    "    class_mode='categorical',  # Ajusta si tu modelo espera etiquetas categóricas\n",
    "    shuffle=False\n",
    ")"
   ]
  },
  {
   "cell_type": "code",
   "execution_count": null,
   "metadata": {},
   "outputs": [],
   "source": [
    "# Obtener las predicciones del modelo para el conjunto de prueba\n",
    "predictions = model.predict(test_generator)\n",
    "# Convertir las predicciones a clases (si es necesario)\n",
    "predicted_classes = np.argmax(predictions, axis=1)\n",
    "# Obtener las etiquetas verdaderas\n",
    "true_classes = test_generator.classes\n",
    "# Calcular la precisión y el recall por clase\n",
    "classification_rep = classification_report(true_classes, predicted_classes)\n",
    "accuracy = accuracy_score(true_classes, predicted_classes)\n",
    "conf_matrix = confusion_matrix(true_classes, predicted_classes)\n",
    "print(\"Informe de clasificación:\")\n",
    "print(classification_rep)\n",
    "print(\"Exactitud general:\")\n",
    "print(accuracy)\n",
    "print(\"Matriz de confusión:\")\n",
    "print(conf_matrix)"
   ]
  }
 ],
 "metadata": {
  "kernelspec": {
   "display_name": "Python 3",
   "language": "python",
   "name": "python3"
  },
  "language_info": {
   "codemirror_mode": {
    "name": "ipython",
    "version": 3
   },
   "file_extension": ".py",
   "mimetype": "text/x-python",
   "name": "python",
   "nbconvert_exporter": "python",
   "pygments_lexer": "ipython3",
   "version": "3.11.4"
  }
 },
 "nbformat": 4,
 "nbformat_minor": 2
}
