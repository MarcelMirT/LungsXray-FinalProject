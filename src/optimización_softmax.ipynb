{
 "cells": [
  {
   "cell_type": "code",
   "execution_count": 2,
   "metadata": {},
   "outputs": [
    {
     "name": "stderr",
     "output_type": "stream",
     "text": [
      "2024-01-05 11:25:06.571801: I external/local_tsl/tsl/cuda/cudart_stub.cc:31] Could not find cuda drivers on your machine, GPU will not be used.\n",
      "2024-01-05 11:25:08.760863: E external/local_xla/xla/stream_executor/cuda/cuda_dnn.cc:9261] Unable to register cuDNN factory: Attempting to register factory for plugin cuDNN when one has already been registered\n",
      "2024-01-05 11:25:08.760963: E external/local_xla/xla/stream_executor/cuda/cuda_fft.cc:607] Unable to register cuFFT factory: Attempting to register factory for plugin cuFFT when one has already been registered\n",
      "2024-01-05 11:25:09.082165: E external/local_xla/xla/stream_executor/cuda/cuda_blas.cc:1515] Unable to register cuBLAS factory: Attempting to register factory for plugin cuBLAS when one has already been registered\n",
      "2024-01-05 11:25:09.775919: I external/local_tsl/tsl/cuda/cudart_stub.cc:31] Could not find cuda drivers on your machine, GPU will not be used.\n",
      "2024-01-05 11:25:09.777386: I tensorflow/core/platform/cpu_feature_guard.cc:182] This TensorFlow binary is optimized to use available CPU instructions in performance-critical operations.\n",
      "To enable the following instructions: AVX2 FMA, in other operations, rebuild TensorFlow with the appropriate compiler flags.\n",
      "2024-01-05 11:25:13.503836: W tensorflow/compiler/tf2tensorrt/utils/py_utils.cc:38] TF-TRT Warning: Could not find TensorRT\n"
     ]
    }
   ],
   "source": [
    "import tensorflow as tf\n",
    "from tensorflow import keras\n",
    "from keras import datasets, layers, models\n",
    "import matplotlib.pyplot as plt\n",
    "from tensorflow.keras.preprocessing.image import ImageDataGenerator\n",
    "from sklearn.metrics import precision_score, recall_score\n",
    "import numpy as np\n",
    "from sklearn.metrics import classification_report, accuracy_score, confusion_matrix\n",
    "from tensorflow.keras.models import load_model\n",
    "from tensorflow.keras.preprocessing import image\n",
    "from tensorflow.keras.applications.resnet50 import preprocess_input, decode_predictions\n",
    "import random\n",
    "import os\n"
   ]
  },
  {
   "cell_type": "code",
   "execution_count": 3,
   "metadata": {},
   "outputs": [],
   "source": [
    "dataset_dir = '/workspaces/LungsXray-FP/data/raw/MULTIPLE'"
   ]
  },
  {
   "cell_type": "code",
   "execution_count": 4,
   "metadata": {},
   "outputs": [
    {
     "name": "stdout",
     "output_type": "stream",
     "text": [
      "Found 5266 images belonging to 4 classes.\n"
     ]
    },
    {
     "name": "stdout",
     "output_type": "stream",
     "text": [
      "Found 1315 images belonging to 4 classes.\n"
     ]
    }
   ],
   "source": [
    "image_size = (150, 150)\n",
    "batch_size = 32\n",
    "train_datagen = ImageDataGenerator(\n",
    "    rescale=1./255,\n",
    "    shear_range=0.2,\n",
    "    zoom_range=0.2,\n",
    "    horizontal_flip=True,\n",
    "    validation_split=0.2\n",
    ")\n",
    "train_generator = train_datagen.flow_from_directory(\n",
    "    dataset_dir,\n",
    "    target_size=image_size,\n",
    "    batch_size=batch_size,\n",
    "    class_mode='categorical',\n",
    "    subset='training'\n",
    ")\n",
    "validation_generator = train_datagen.flow_from_directory(\n",
    "    dataset_dir,\n",
    "    target_size=image_size,\n",
    "    batch_size=batch_size,\n",
    "    class_mode='categorical',\n",
    "    subset='validation'\n",
    ")"
   ]
  },
  {
   "cell_type": "code",
   "execution_count": 5,
   "metadata": {},
   "outputs": [
    {
     "name": "stderr",
     "output_type": "stream",
     "text": [
      "2024-01-05 11:25:20.682754: W external/local_tsl/tsl/framework/cpu_allocator_impl.cc:83] Allocation of 18939904 exceeds 10% of free system memory.\n",
      "2024-01-05 11:25:20.708741: W external/local_tsl/tsl/framework/cpu_allocator_impl.cc:83] Allocation of 18939904 exceeds 10% of free system memory.\n",
      "2024-01-05 11:25:20.714829: W external/local_tsl/tsl/framework/cpu_allocator_impl.cc:83] Allocation of 18939904 exceeds 10% of free system memory.\n"
     ]
    }
   ],
   "source": [
    "num_classes = len(train_generator.class_indices)\n",
    "model = tf.keras.Sequential([\n",
    "    tf.keras.layers.Conv2D(32, (3, 3), activation='relu', input_shape=(image_size[0], image_size[1], 3)),\n",
    "    tf.keras.layers.MaxPooling2D((2, 2)),\n",
    "    tf.keras.layers.Conv2D(64, (3, 3), activation='relu'),\n",
    "    tf.keras.layers.MaxPooling2D((2, 2)),\n",
    "    tf.keras.layers.Conv2D(128, (3, 3), activation='relu'),\n",
    "    tf.keras.layers.MaxPooling2D((2, 2)),\n",
    "    tf.keras.layers.Flatten(),\n",
    "    tf.keras.layers.Dense(128, activation='relu'),\n",
    "    tf.keras.layers.Dropout(0.5),  # Agrega Dropout para reducir el sobreajuste\n",
    "    tf.keras.layers.Dense(num_classes, activation='softmax')\n",
    "])"
   ]
  },
  {
   "cell_type": "code",
   "execution_count": 6,
   "metadata": {},
   "outputs": [],
   "source": [
    "# Puedes experimentar con diferentes tasas de aprendizaje\n",
    "optimizer = tf.keras.optimizers.Adam(learning_rate=0.001)\n",
    "model.compile(optimizer=optimizer,\n",
    "              loss='categorical_crossentropy',\n",
    "              metrics=['accuracy'])"
   ]
  },
  {
   "cell_type": "code",
   "execution_count": 7,
   "metadata": {},
   "outputs": [],
   "source": [
    "# También puedes agregar ReduceLROnPlateau\n",
    "reduce_lr = tf.keras.callbacks.ReduceLROnPlateau(monitor='val_loss', factor=0.2, patience=3, min_lr=0.0001)"
   ]
  },
  {
   "cell_type": "code",
   "execution_count": 8,
   "metadata": {},
   "outputs": [
    {
     "name": "stdout",
     "output_type": "stream",
     "text": [
      "Epoch 1/10\n"
     ]
    },
    {
     "name": "stderr",
     "output_type": "stream",
     "text": [
      "2024-01-05 11:25:21.901212: W external/local_tsl/tsl/framework/cpu_allocator_impl.cc:83] Allocation of 18939904 exceeds 10% of free system memory.\n",
      "2024-01-05 11:25:21.903270: W external/local_tsl/tsl/framework/cpu_allocator_impl.cc:83] Allocation of 18939904 exceeds 10% of free system memory.\n"
     ]
    },
    {
     "name": "stdout",
     "output_type": "stream",
     "text": [
      "165/165 [==============================] - 233s 1s/step - loss: 0.7451 - accuracy: 0.6996 - val_loss: 0.4652 - val_accuracy: 0.8297 - lr: 0.0010\n",
      "Epoch 2/10\n",
      "165/165 [==============================] - 236s 1s/step - loss: 0.4433 - accuracy: 0.8293 - val_loss: 0.3818 - val_accuracy: 0.8540 - lr: 0.0010\n",
      "Epoch 3/10\n",
      "165/165 [==============================] - 229s 1s/step - loss: 0.3905 - accuracy: 0.8551 - val_loss: 0.3399 - val_accuracy: 0.8707 - lr: 0.0010\n",
      "Epoch 4/10\n",
      "165/165 [==============================] - 227s 1s/step - loss: 0.3605 - accuracy: 0.8697 - val_loss: 0.3433 - val_accuracy: 0.8654 - lr: 0.0010\n",
      "Epoch 5/10\n",
      "165/165 [==============================] - 226s 1s/step - loss: 0.3332 - accuracy: 0.8773 - val_loss: 0.3471 - val_accuracy: 0.8692 - lr: 0.0010\n",
      "Epoch 6/10\n",
      "165/165 [==============================] - 223s 1s/step - loss: 0.3279 - accuracy: 0.8787 - val_loss: 0.2922 - val_accuracy: 0.8928 - lr: 0.0010\n",
      "Epoch 7/10\n",
      "165/165 [==============================] - 224s 1s/step - loss: 0.2895 - accuracy: 0.8954 - val_loss: 0.3058 - val_accuracy: 0.8928 - lr: 0.0010\n",
      "Epoch 8/10\n",
      "165/165 [==============================] - 223s 1s/step - loss: 0.2844 - accuracy: 0.9032 - val_loss: 0.2954 - val_accuracy: 0.9027 - lr: 0.0010\n",
      "Epoch 9/10\n",
      "165/165 [==============================] - 223s 1s/step - loss: 0.2579 - accuracy: 0.9090 - val_loss: 0.2606 - val_accuracy: 0.9103 - lr: 0.0010\n",
      "Epoch 10/10\n",
      "165/165 [==============================] - 225s 1s/step - loss: 0.2486 - accuracy: 0.9109 - val_loss: 0.2904 - val_accuracy: 0.8958 - lr: 0.0010\n"
     ]
    }
   ],
   "source": [
    "epochs = 10\n",
    "history = model.fit(\n",
    "    train_generator,\n",
    "    epochs=epochs,\n",
    "    validation_data=validation_generator,\n",
    "    callbacks=[reduce_lr]  # Agrega ReduceLROnPlateau como callback\n",
    ")"
   ]
  },
  {
   "cell_type": "code",
   "execution_count": 9,
   "metadata": {},
   "outputs": [
    {
     "name": "stdout",
     "output_type": "stream",
     "text": [
      "42/42 - 29s - loss: 0.2877 - accuracy: 0.9027 - 29s/epoch - 686ms/step\n",
      "\n",
      "Exactitud en el conjunto de validación: 0.9026616215705872\n"
     ]
    }
   ],
   "source": [
    "test_loss, test_acc = model.evaluate(validation_generator, verbose=2)\n",
    "print('\\nExactitud en el conjunto de validación:', test_acc)"
   ]
  },
  {
   "cell_type": "code",
   "execution_count": 10,
   "metadata": {},
   "outputs": [],
   "source": [
    "model.save('modelo_softmax_optimizado.keras')"
   ]
  },
  {
   "cell_type": "code",
   "execution_count": 12,
   "metadata": {},
   "outputs": [
    {
     "name": "stdout",
     "output_type": "stream",
     "text": [
      "Found 6581 images belonging to 4 classes.\n"
     ]
    }
   ],
   "source": [
    "model = load_model('modelo_softmax_optimizado.keras')  # Ajusta el nombre de tu modelo\n",
    "# Preprocesamiento de datos para el conjunto de prueba\n",
    "test_datagen = ImageDataGenerator(rescale=1./255)\n",
    "test_generator = test_datagen.flow_from_directory(\n",
    "    dataset_dir,\n",
    "    target_size=(150, 150),\n",
    "    batch_size=32,\n",
    "    class_mode='categorical',  # Ajusta si tu modelo espera etiquetas categóricas\n",
    "    shuffle=False\n",
    ")"
   ]
  },
  {
   "cell_type": "code",
   "execution_count": 13,
   "metadata": {},
   "outputs": [
    {
     "name": "stdout",
     "output_type": "stream",
     "text": [
      "206/206 [==============================] - 125s 606ms/step\n",
      "Informe de clasificación:\n",
      "              precision    recall  f1-score   support\n",
      "\n",
      "           0       0.91      0.96      0.94      1589\n",
      "           1       0.85      0.96      0.90      1341\n",
      "           2       0.97      0.94      0.95      2616\n",
      "           3       0.96      0.81      0.88      1035\n",
      "\n",
      "    accuracy                           0.93      6581\n",
      "   macro avg       0.93      0.92      0.92      6581\n",
      "weighted avg       0.93      0.93      0.93      6581\n",
      "\n",
      "Exactitud general:\n",
      "0.9285822823279137\n",
      "Matriz de confusión:\n",
      "[[1532   13   15   29]\n",
      " [  14 1286   41    0]\n",
      " [   7  156 2451    2]\n",
      " [ 122   54   17  842]]\n"
     ]
    }
   ],
   "source": [
    "# Obtener las predicciones del modelo para el conjunto de prueba\n",
    "predictions = model.predict(test_generator)\n",
    "# Convertir las predicciones a clases (si es necesario)\n",
    "predicted_classes = np.argmax(predictions, axis=1)\n",
    "# Obtener las etiquetas verdaderas\n",
    "true_classes = test_generator.classes\n",
    "# Calcular la precisión y el recall por clase\n",
    "classification_rep = classification_report(true_classes, predicted_classes)\n",
    "accuracy = accuracy_score(true_classes, predicted_classes)\n",
    "conf_matrix = confusion_matrix(true_classes, predicted_classes)\n",
    "print(\"Informe de clasificación:\")\n",
    "print(classification_rep)\n",
    "print(\"Exactitud general:\")\n",
    "print(accuracy)\n",
    "print(\"Matriz de confusión:\")\n",
    "print(conf_matrix)"
   ]
  }
 ],
 "metadata": {
  "kernelspec": {
   "display_name": "Python 3",
   "language": "python",
   "name": "python3"
  },
  "language_info": {
   "codemirror_mode": {
    "name": "ipython",
    "version": 3
   },
   "file_extension": ".py",
   "mimetype": "text/x-python",
   "name": "python",
   "nbconvert_exporter": "python",
   "pygments_lexer": "ipython3",
   "version": "3.11.4"
  }
 },
 "nbformat": 4,
 "nbformat_minor": 2
}
