{
 "cells": [
  {
   "cell_type": "code",
   "execution_count": null,
   "metadata": {},
   "outputs": [],
   "source": [
    "import os\n",
    "import numpy as np\n",
    "import matplotlib.pyplot as plt\n",
    "import tensorflow as tf\n",
    "from tensorflow.keras.preprocessing.image import ImageDataGenerator\n",
    "from tensorflow.keras.models import Sequential, load_model\n",
    "from tensorflow.keras.layers import Conv2D, MaxPooling2D, Flatten, Dense, Dropout\n",
    "from tensorflow.keras.regularizers import l2\n",
    "from sklearn.metrics import confusion_matrix, classification_report\n",
    "import seaborn as sns\n",
    "import random\n",
    "from tensorflow.keras.preprocessing import image\n",
    "from tensorflow.keras.callbacks import ModelCheckpoint, EarlyStopping\n",
    "import keras_tuner"
   ]
  },
  {
   "cell_type": "code",
   "execution_count": null,
   "metadata": {},
   "outputs": [],
   "source": [
    "# Directorios de datos\n",
    "directorio_entrenamiento = 'C:/Users/krisz/Desktop/LungsXray-FP-main/LungsXray-FP-main/data/Conjuntos_COVID/entrenamiento'\n",
    "directorio_validacion = 'C:/Users/krisz/Desktop/LungsXray-FP-main/LungsXray-FP-main/data/Conjuntos_COVID/validacion'\n",
    "directorio_testeo = 'C:/Users/krisz/Desktop/LungsXray-FP-main/LungsXray-FP-main/data/Conjuntos_COVID/testeo'"
   ]
  },
  {
   "cell_type": "code",
   "execution_count": null,
   "metadata": {},
   "outputs": [],
   "source": [
    "# Configurar parámetros\n",
    "batch_size = 32\n",
    "img_height = 150\n",
    "img_width = 150\n",
    "\n",
    "# Preprocesamiento de datos y aumento de datos para entrenamiento\n",
    "train_data_gen = ImageDataGenerator(\n",
    "    rescale=1./255,\n",
    "    shear_range=0.2,\n",
    "    zoom_range=0.2,\n",
    "    horizontal_flip=True,\n",
    "    rotation_range=15,  # Nueva técnica: rotación\n",
    "    width_shift_range=0.1,  # Nueva técnica: desplazamiento horizontal\n",
    "    height_shift_range=0.1,  # Nueva técnica: desplazamiento vertical\n",
    ")\n",
    "\n",
    "# Preprocesamiento de datos para validación y prueba (sin aumento)\n",
    "val_test_data_gen = ImageDataGenerator(rescale=1./255)\n",
    "\n",
    "# Generadores de datos para entrenamiento, validación y prueba\n",
    "train_generator = train_data_gen.flow_from_directory(\n",
    "    directorio_entrenamiento,\n",
    "    target_size=(img_height, img_width),\n",
    "    batch_size=batch_size,\n",
    "    class_mode='binary',  # Usamos 'binary' porque ya tenemos las etiquetas en los nombres de los archivos\n",
    "    shuffle=True\n",
    ")\n",
    "\n",
    "val_generator = val_test_data_gen.flow_from_directory(\n",
    "    directorio_validacion,\n",
    "    target_size=(img_height, img_width),\n",
    "    batch_size=batch_size,\n",
    "    class_mode='binary',\n",
    "    shuffle=False  # No es necesario barajar el conjunto de validación\n",
    ")\n",
    "\n",
    "test_generator = val_test_data_gen.flow_from_directory(\n",
    "    directorio_testeo,\n",
    "    target_size=(img_height, img_width),\n",
    "    batch_size=batch_size,\n",
    "    class_mode='binary',\n",
    "    shuffle=False  # No es necesario barajar el conjunto de prueba\n",
    ")"
   ]
  },
  {
   "cell_type": "code",
   "execution_count": null,
   "metadata": {},
   "outputs": [],
   "source": [
    "def build_model(hp):\n",
    "    model = Sequential([\n",
    "        Conv2D(\n",
    "            filters=hp.Int('conv_1_filter', min_value=32, max_value=128, step=32),\n",
    "            kernel_size=hp.Choice('conv_1_kernel', values = [3,5]),\n",
    "            activation='relu',\n",
    "            input_shape=(img_height, img_width, 3),\n",
    "            kernel_regularizer=l2(0.01)\n",
    "        ),\n",
    "        MaxPooling2D((2, 2)),    \n",
    "        Conv2D(\n",
    "            filters=hp.Int('conv_2_filter', min_value=32, max_value=64, step=32),\n",
    "            kernel_size=hp.Choice('conv_2_kernel', values = [3,5]),\n",
    "            activation='relu',\n",
    "            kernel_regularizer=l2(0.01)\n",
    "        ),\n",
    "        MaxPooling2D((2, 2)),    \n",
    "        Conv2D(\n",
    "            filters=hp.Int('conv_3_filter', min_value=64, max_value=128, step=32),\n",
    "            kernel_size=hp.Choice('conv_3_kernel', values = [3,5]),\n",
    "            activation='relu',\n",
    "            kernel_regularizer=l2(0.01)\n",
    "        ),\n",
    "        MaxPooling2D((2, 2)),    \n",
    "        Flatten(),\n",
    "        Dense(\n",
    "            units=hp.Int('dense_1_units', min_value=32, max_value=256, step=32),\n",
    "            activation='relu',\n",
    "            kernel_regularizer=l2(0.01)\n",
    "        ),\n",
    "        Dropout(hp.Float('dropout', min_value=0.0, max_value=0.5, step=0.1)),\n",
    "        Dense(1, activation='sigmoid')\n",
    "    ])\n",
    "    \n",
    "\n",
    "    # Compilar el modelo con la tasa de aprendizaje\n",
    "    model.compile(optimizer='Adam',loss='binary_crossentropy',metrics=['accuracy'])\n",
    "    \n",
    "    return model"
   ]
  },
  {
   "cell_type": "code",
   "execution_count": null,
   "metadata": {},
   "outputs": [],
   "source": [
    "tuner = keras_tuner.RandomSearch(\n",
    "    build_model,\n",
    "    objective='val_accuracy',\n",
    "    max_trials=10,\n",
    "    directory='covd_random',\n",
    "    project_name=\"RandomSearch\"\n",
    ")"
   ]
  },
  {
   "cell_type": "code",
   "execution_count": null,
   "metadata": {},
   "outputs": [],
   "source": [
    "# Implementar EarlyStopping para detener el entrenamiento si no mejora la métrica de validación\n",
    "early_stopping = EarlyStopping(monitor='val_loss', patience=3, restore_best_weights=True)"
   ]
  },
  {
   "cell_type": "code",
   "execution_count": null,
   "metadata": {},
   "outputs": [],
   "source": [
    "for trial in range(10):\n",
    "    tuner.search(train_generator, epochs=10, validation_data=val_generator,callbacks=[early_stopping])\n",
    "    tf.keras.backend.clear_session()"
   ]
  },
  {
   "cell_type": "code",
   "execution_count": null,
   "metadata": {},
   "outputs": [],
   "source": [
    "# Obtener el mejor modelo\n",
    "best_model = tuner.get_best_models(num_models=1)[0]"
   ]
  },
  {
   "cell_type": "code",
   "execution_count": null,
   "metadata": {},
   "outputs": [],
   "source": [
    "# Obtener los mejores hiperparámetros\n",
    "best_hyperparameters = tuner.get_best_hyperparameters(num_trials=1)[0]\n",
    "print(best_hyperparameters.values)"
   ]
  },
  {
   "cell_type": "code",
   "execution_count": null,
   "metadata": {},
   "outputs": [],
   "source": [
    "# Implementar EarlyStopping para detener el entrenamiento si no mejora la métrica de validación\n",
    "early_stopping = EarlyStopping(monitor='val_loss', patience=3, restore_best_weights=True)\n",
    "\n",
    "# Implementar ModelCheckpoint para guardar el mejor modelo durante el entrenamiento\n",
    "model_checkpoint = ModelCheckpoint('modelo_covid_hiperparametros_randomsearch.h5', save_best_only=True)"
   ]
  },
  {
   "cell_type": "code",
   "execution_count": null,
   "metadata": {},
   "outputs": [],
   "source": [
    "# Entrenar el mejor modelo con los datos del generador, agregar regularización y ajustar pesos de clase\n",
    "history = best_model.fit(\n",
    "    train_generator,\n",
    "    epochs=50,  # Ajusta según sea necesario\n",
    "    validation_data=val_generator,\n",
    "    callbacks=[early_stopping, model_checkpoint],\n",
    "    class_weight=None  # Puedes ajustar esto si encuentras desequilibrios en la distribución de clases\n",
    ")"
   ]
  },
  {
   "cell_type": "code",
   "execution_count": null,
   "metadata": {},
   "outputs": [],
   "source": [
    "# Visualizar el rendimiento del modelo\n",
    "plt.figure(figsize=(12, 4))\n",
    "plt.subplot(1, 2, 1)\n",
    "plt.plot(history.history['accuracy'], label='Training Accuracy')\n",
    "plt.plot(history.history['val_accuracy'], label='Validation Accuracy')\n",
    "plt.xlabel('Epochs')\n",
    "plt.ylabel('Accuracy')\n",
    "plt.legend()\n",
    "\n",
    "plt.subplot(1, 2, 2)\n",
    "plt.plot(history.history['loss'], label='Training Loss')\n",
    "plt.plot(history.history['val_loss'], label='Validation Loss')\n",
    "plt.xlabel('Epochs')\n",
    "plt.ylabel('Loss')\n",
    "plt.legend()\n",
    "\n",
    "plt.show()\n",
    "\n",
    "# Evaluar el modelo en el conjunto de prueba\n",
    "test_loss, test_acc = best_model.evaluate(test_generator, verbose=2)\n",
    "print('\\nExactitud en el conjunto de prueba:', test_acc)\n",
    "\n",
    "# Predicciones en el conjunto de prueba\n",
    "y_pred = best_model.predict(test_generator)\n",
    "y_pred_classes = (y_pred > 0.5).astype(int)\n",
    "\n",
    "# Matriz de confusión\n",
    "conf_mat = confusion_matrix(test_generator.classes, y_pred_classes)\n",
    "plt.figure(figsize=(6, 6))\n",
    "sns.heatmap(conf_mat, annot=True, fmt='d', cmap='Blues', cbar=False,\n",
    "            xticklabels=train_generator.class_indices,\n",
    "            yticklabels=train_generator.class_indices)\n",
    "plt.xlabel('Predicciones')\n",
    "plt.ylabel('Etiquetas verdaderas')\n",
    "plt.show()\n",
    "\n",
    "# Informe de clasificación\n",
    "print(classification_report(test_generator.classes, y_pred_classes))"
   ]
  },
  {
   "cell_type": "code",
   "execution_count": null,
   "metadata": {},
   "outputs": [],
   "source": [
    "modelo = load_model('C:/Users/krisz/Desktop/LungsXray-FP-main/LungsXray-FP-main/src/modelo_covid_hiperparametros_randomsearch.h5')"
   ]
  },
  {
   "cell_type": "code",
   "execution_count": null,
   "metadata": {},
   "outputs": [],
   "source": [
    "# Función para mostrar imágenes con predicciones en una cuadrícula\n",
    "def mostrar_imagenes_predicciones(modelo, directorio, num_imagenes_por_clase=25, columnas=5):\n",
    "    clases = os.listdir(directorio)\n",
    "    \n",
    "    for clase in clases:\n",
    "        ruta_clase = os.path.join(directorio, clase)\n",
    "        imagenes = random.sample(os.listdir(ruta_clase), num_imagenes_por_clase)\n",
    "        \n",
    "        # Crear una cuadrícula de subgráficos\n",
    "        fig, axs = plt.subplots(nrows=num_imagenes_por_clase//columnas, ncols=columnas, figsize=(15, 15))\n",
    "        fig.suptitle(f'Carpeta: {clase}', fontsize=16)\n",
    "\n",
    "        for i, imagen_nombre in enumerate(imagenes):\n",
    "            imagen_path = os.path.join(ruta_clase, imagen_nombre)\n",
    "            img = image.load_img(imagen_path, target_size=(img_height, img_width))\n",
    "            img_array = image.img_to_array(img)\n",
    "            img_array = np.expand_dims(img_array, axis=0)\n",
    "            img_array /= 255.0  # Normalizar\n",
    "\n",
    "            prediccion = modelo.predict(img_array)\n",
    "            clase_predicha = 'COVID' if prediccion < 0.5 else 'RESTO'\n",
    "\n",
    "            # Mostrar cada imagen en un subgráfico\n",
    "            row = i // columnas\n",
    "            col = i % columnas\n",
    "            axs[row, col].imshow(img)\n",
    "            axs[row, col].set_title(f'{clase_predicha}\\nCarpeta: {clase}')\n",
    "            axs[row, col].axis('off')\n",
    "\n",
    "        plt.show()\n",
    "\n",
    "# Ruta al directorio con subcarpetas de imágenes de prueba\n",
    "ruta_directorio_prueba = 'C:/Users/krisz/Desktop/LungsXray-FP-main/LungsXray-FP-main/data/Conjuntos_COVID/testeo'\n",
    "\n",
    "# Llamar a la función para mostrar imágenes y predicciones en una cuadrícula\n",
    "mostrar_imagenes_predicciones(modelo, ruta_directorio_prueba)"
   ]
  }
 ],
 "metadata": {
  "kernelspec": {
   "display_name": "Python 3",
   "language": "python",
   "name": "python3"
  },
  "language_info": {
   "codemirror_mode": {
    "name": "ipython",
    "version": 3
   },
   "file_extension": ".py",
   "mimetype": "text/x-python",
   "name": "python",
   "nbconvert_exporter": "python",
   "pygments_lexer": "ipython3",
   "version": "3.11.4"
  }
 },
 "nbformat": 4,
 "nbformat_minor": 2
}
